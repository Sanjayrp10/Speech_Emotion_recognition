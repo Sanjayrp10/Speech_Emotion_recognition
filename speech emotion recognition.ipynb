{
 "cells": [
  {
   "cell_type": "code",
   "execution_count": 2,
   "id": "f0735e2c",
   "metadata": {},
   "outputs": [],
   "source": [
    "from vaderSentiment.vaderSentiment import SentimentIntensityAnalyzer\n",
    "import speech_recognition as sr "
   ]
  },
  {
   "cell_type": "code",
   "execution_count": 8,
   "id": "f73686ad",
   "metadata": {},
   "outputs": [
    {
     "name": "stdout",
     "output_type": "stream",
     "text": [
      "Clearing background noise...\n",
      "Waiting for your message...\n",
      "Done recording..\n"
     ]
    }
   ],
   "source": [
    "recognizer=sr.Recognizer() \n",
    "with sr.Microphone() as source: \n",
    "\tprint('Clearing background noise...') \n",
    "\trecognizer.adjust_for_ambient_noise(source,duration=1) \n",
    "\tprint('Waiting for your message...') \n",
    "\trecordedaudio=recognizer.listen(source) \n",
    "\tprint('Done recording..')"
   ]
  },
  {
   "cell_type": "code",
   "execution_count": 9,
   "id": "78f9a88f",
   "metadata": {},
   "outputs": [
    {
     "name": "stdout",
     "output_type": "stream",
     "text": [
      "Printing the message..\n",
      "Your message:hello how are you\n"
     ]
    }
   ],
   "source": [
    "try:\n",
    "\tprint('Printing the message..') \n",
    "\ttext=recognizer.recognize_google(recordedaudio,language='en-US') \n",
    "\tprint('Your message:{}'.format(text)) \n",
    "except Exception as ex: \n",
    "\tprint(ex)"
   ]
  },
  {
   "cell_type": "code",
   "execution_count": 17,
   "id": "c50ee5f7",
   "metadata": {},
   "outputs": [
    {
     "name": "stdout",
     "output_type": "stream",
     "text": [
      "{'neg': 0.0, 'neu': 1.0, 'pos': 0.0, 'compound': 0.0}\n"
     ]
    }
   ],
   "source": [
    "Sentence=[str(text)]\n",
    "analyser=SentimentIntensityAnalyzer()\n",
    "for i in Sentence:\n",
    "    v=analyser.polarity_scores(i)\n",
    "    print(v)\n",
    "    "
   ]
  },
  {
   "cell_type": "code",
   "execution_count": null,
   "id": "056a318a",
   "metadata": {},
   "outputs": [],
   "source": []
  }
 ],
 "metadata": {
  "kernelspec": {
   "display_name": "Python 3 (ipykernel)",
   "language": "python",
   "name": "python3"
  },
  "language_info": {
   "codemirror_mode": {
    "name": "ipython",
    "version": 3
   },
   "file_extension": ".py",
   "mimetype": "text/x-python",
   "name": "python",
   "nbconvert_exporter": "python",
   "pygments_lexer": "ipython3",
   "version": "3.10.10"
  }
 },
 "nbformat": 4,
 "nbformat_minor": 5
}
